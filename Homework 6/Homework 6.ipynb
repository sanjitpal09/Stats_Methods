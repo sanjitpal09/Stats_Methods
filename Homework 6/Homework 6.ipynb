{
 "cells": [
  {
   "cell_type": "markdown",
   "metadata": {},
   "source": [
    "## ORI 397: Statistical Methods in Manufacturing\n",
    "### Homework Assigment # 6\n",
    "### Name: Sanjit Paliwal\n",
    "### UT EID: SP42626"
   ]
  },
  {
   "cell_type": "code",
   "execution_count": 1,
   "metadata": {},
   "outputs": [
    {
     "name": "stdout",
     "output_type": "stream",
     "text": [
      "Populating the interactive namespace from numpy and matplotlib\n"
     ]
    }
   ],
   "source": [
    "import numpy as np\n",
    "import pandas as pd\n",
    "import scipy as sp\n",
    "import math\n",
    "import warnings\n",
    "warnings.filterwarnings('ignore')\n",
    "%pylab inline"
   ]
  },
  {
   "cell_type": "markdown",
   "metadata": {},
   "source": [
    "### 19.7 a)\n",
    "\n",
    "To get the effect for a Variable we simply multiply the corresponding value of the variable column with the mean response value then sum all these values and divide the sum by 4 to get the effect value."
   ]
  },
  {
   "cell_type": "code",
   "execution_count": 2,
   "metadata": {},
   "outputs": [
    {
     "data": {
      "text/html": [
       "<div>\n",
       "<style>\n",
       "    .dataframe thead tr:only-child th {\n",
       "        text-align: right;\n",
       "    }\n",
       "\n",
       "    .dataframe thead th {\n",
       "        text-align: left;\n",
       "    }\n",
       "\n",
       "    .dataframe tbody tr th {\n",
       "        vertical-align: top;\n",
       "    }\n",
       "</style>\n",
       "<table border=\"1\" class=\"dataframe\">\n",
       "  <thead>\n",
       "    <tr style=\"text-align: right;\">\n",
       "      <th></th>\n",
       "      <th>Test</th>\n",
       "      <th>Temperature</th>\n",
       "      <th>Catalyst</th>\n",
       "      <th>pH</th>\n",
       "      <th>Temperature*Catalyst</th>\n",
       "      <th>Temperature*pH</th>\n",
       "      <th>Catalyst*pH</th>\n",
       "      <th>Temperature*Catalyst*pH</th>\n",
       "      <th>Week 1</th>\n",
       "      <th>Week 2</th>\n",
       "      <th>Week 3</th>\n",
       "      <th>Y_bar</th>\n",
       "    </tr>\n",
       "  </thead>\n",
       "  <tbody>\n",
       "    <tr>\n",
       "      <th>0</th>\n",
       "      <td>1</td>\n",
       "      <td>-1</td>\n",
       "      <td>-1</td>\n",
       "      <td>-1</td>\n",
       "      <td>1</td>\n",
       "      <td>1</td>\n",
       "      <td>1</td>\n",
       "      <td>-1</td>\n",
       "      <td>60.4</td>\n",
       "      <td>62.1</td>\n",
       "      <td>63.4</td>\n",
       "      <td>61.966667</td>\n",
       "    </tr>\n",
       "    <tr>\n",
       "      <th>1</th>\n",
       "      <td>2</td>\n",
       "      <td>1</td>\n",
       "      <td>-1</td>\n",
       "      <td>-1</td>\n",
       "      <td>-1</td>\n",
       "      <td>-1</td>\n",
       "      <td>1</td>\n",
       "      <td>1</td>\n",
       "      <td>64.1</td>\n",
       "      <td>79.4</td>\n",
       "      <td>74.0</td>\n",
       "      <td>72.500000</td>\n",
       "    </tr>\n",
       "    <tr>\n",
       "      <th>2</th>\n",
       "      <td>3</td>\n",
       "      <td>-1</td>\n",
       "      <td>1</td>\n",
       "      <td>-1</td>\n",
       "      <td>-1</td>\n",
       "      <td>1</td>\n",
       "      <td>-1</td>\n",
       "      <td>1</td>\n",
       "      <td>59.6</td>\n",
       "      <td>61.2</td>\n",
       "      <td>57.5</td>\n",
       "      <td>59.433333</td>\n",
       "    </tr>\n",
       "    <tr>\n",
       "      <th>3</th>\n",
       "      <td>4</td>\n",
       "      <td>1</td>\n",
       "      <td>1</td>\n",
       "      <td>-1</td>\n",
       "      <td>1</td>\n",
       "      <td>-1</td>\n",
       "      <td>-1</td>\n",
       "      <td>-1</td>\n",
       "      <td>66.7</td>\n",
       "      <td>67.3</td>\n",
       "      <td>68.9</td>\n",
       "      <td>67.633333</td>\n",
       "    </tr>\n",
       "    <tr>\n",
       "      <th>4</th>\n",
       "      <td>5</td>\n",
       "      <td>-1</td>\n",
       "      <td>-1</td>\n",
       "      <td>1</td>\n",
       "      <td>1</td>\n",
       "      <td>-1</td>\n",
       "      <td>-1</td>\n",
       "      <td>1</td>\n",
       "      <td>63.3</td>\n",
       "      <td>66.0</td>\n",
       "      <td>65.3</td>\n",
       "      <td>64.866667</td>\n",
       "    </tr>\n",
       "    <tr>\n",
       "      <th>5</th>\n",
       "      <td>6</td>\n",
       "      <td>1</td>\n",
       "      <td>-1</td>\n",
       "      <td>1</td>\n",
       "      <td>-1</td>\n",
       "      <td>1</td>\n",
       "      <td>-1</td>\n",
       "      <td>-1</td>\n",
       "      <td>91.2</td>\n",
       "      <td>77.4</td>\n",
       "      <td>84.9</td>\n",
       "      <td>84.500000</td>\n",
       "    </tr>\n",
       "    <tr>\n",
       "      <th>6</th>\n",
       "      <td>7</td>\n",
       "      <td>-1</td>\n",
       "      <td>1</td>\n",
       "      <td>1</td>\n",
       "      <td>-1</td>\n",
       "      <td>-1</td>\n",
       "      <td>1</td>\n",
       "      <td>-1</td>\n",
       "      <td>68.1</td>\n",
       "      <td>71.3</td>\n",
       "      <td>68.6</td>\n",
       "      <td>69.333333</td>\n",
       "    </tr>\n",
       "    <tr>\n",
       "      <th>7</th>\n",
       "      <td>8</td>\n",
       "      <td>1</td>\n",
       "      <td>1</td>\n",
       "      <td>1</td>\n",
       "      <td>1</td>\n",
       "      <td>1</td>\n",
       "      <td>1</td>\n",
       "      <td>1</td>\n",
       "      <td>75.3</td>\n",
       "      <td>77.1</td>\n",
       "      <td>76.1</td>\n",
       "      <td>76.166667</td>\n",
       "    </tr>\n",
       "  </tbody>\n",
       "</table>\n",
       "</div>"
      ],
      "text/plain": [
       "   Test  Temperature  Catalyst  pH  Temperature*Catalyst  Temperature*pH  \\\n",
       "0     1           -1        -1  -1                     1               1   \n",
       "1     2            1        -1  -1                    -1              -1   \n",
       "2     3           -1         1  -1                    -1               1   \n",
       "3     4            1         1  -1                     1              -1   \n",
       "4     5           -1        -1   1                     1              -1   \n",
       "5     6            1        -1   1                    -1               1   \n",
       "6     7           -1         1   1                    -1              -1   \n",
       "7     8            1         1   1                     1               1   \n",
       "\n",
       "   Catalyst*pH  Temperature*Catalyst*pH  Week 1  Week 2  Week 3      Y_bar  \n",
       "0            1                       -1    60.4    62.1    63.4  61.966667  \n",
       "1            1                        1    64.1    79.4    74.0  72.500000  \n",
       "2           -1                        1    59.6    61.2    57.5  59.433333  \n",
       "3           -1                       -1    66.7    67.3    68.9  67.633333  \n",
       "4           -1                        1    63.3    66.0    65.3  64.866667  \n",
       "5           -1                       -1    91.2    77.4    84.9  84.500000  \n",
       "6            1                       -1    68.1    71.3    68.6  69.333333  \n",
       "7            1                        1    75.3    77.1    76.1  76.166667  "
      ]
     },
     "execution_count": 2,
     "metadata": {},
     "output_type": "execute_result"
    }
   ],
   "source": [
    "df_che = pd.read_csv('Chemical_Yield.csv')\n",
    "df_che['Y_bar']= (df_che['Week 1']+df_che['Week 2']+df_che['Week 3'])/3.0\n",
    "df_che['Temperature*Catalyst']=df_che['Temperature']*df_che['Catalyst']\n",
    "df_che['Temperature*pH']=df_che['Temperature']*df_che['pH']\n",
    "df_che['Catalyst*pH']=df_che['Catalyst']*df_che['pH']\n",
    "df_che['Temperature*Catalyst*pH']=df_che['Temperature']*df_che['Catalyst']*df_che['pH']\n",
    "df_che = df_che[['Test','Temperature','Catalyst','pH','Temperature*Catalyst','Temperature*pH','Catalyst*pH',\n",
    "                 'Temperature*Catalyst*pH','Week 1','Week 2','Week 3','Y_bar']]\n",
    "df_che"
   ]
  },
  {
   "cell_type": "code",
   "execution_count": 3,
   "metadata": {},
   "outputs": [
    {
     "name": "stdout",
     "output_type": "stream",
     "text": [
      "Effect of temperature is 11.3\n",
      "Effect of Catalyst is -2.81666666667\n",
      "Effect of pH is 8.33333333333\n",
      "Effect of interaction of Temperature and Catalyst is -3.78333333333\n",
      "Effect of interaction of Temperature and pH is 1.93333333333\n",
      "Effect of interaction of Catalyst and ph is 0.883333333333\n",
      "Effect of interaction of Temperature,Catalyst and pH is -2.61666666667\n"
     ]
    }
   ],
   "source": [
    "E_temp = ((df_che['Temperature']*df_che['Y_bar']).sum())/4.0\n",
    "E_cat = ((df_che['Catalyst']*df_che['Y_bar']).sum())/4.0\n",
    "E_pH = ((df_che['pH']*df_che['Y_bar']).sum())/4.0\n",
    "E_tempcat = ((df_che['Temperature*Catalyst']*df_che['Y_bar']).sum())/4.0\n",
    "E_temppH = ((df_che['Temperature*pH']*df_che['Y_bar']).sum())/4.0\n",
    "E_catpH = ((df_che['Catalyst*pH']*df_che['Y_bar']).sum())/4.0\n",
    "E_tempcatpH = ((df_che['Temperature*Catalyst*pH']*df_che['Y_bar']).sum())/4.0\n",
    "print 'Effect of temperature is', E_temp\n",
    "print 'Effect of Catalyst is', E_cat\n",
    "print 'Effect of pH is', E_pH\n",
    "print 'Effect of interaction of Temperature and Catalyst is', E_tempcat\n",
    "print 'Effect of interaction of Temperature and pH is', E_temppH\n",
    "print 'Effect of interaction of Catalyst and ph is', E_catpH\n",
    "print 'Effect of interaction of Temperature,Catalyst and pH is', E_tempcatpH"
   ]
  },
  {
   "cell_type": "markdown",
   "metadata": {},
   "source": [
    "### 19.7 b)\n",
    "As we know that all the cases are replicated equal number of times we use the following formula \n",
    "\n",
    "$$ {S_{p}}^2 = \\frac{{S_{1}}^2+{S_{2}}^2 + ... + {S_{k}}^2}{k}$$ where k is the number of test levels which in our case is 8 <br>\n",
    "where each $ {S_{i}}^2 $ is the sample variance of an individual test level"
   ]
  },
  {
   "cell_type": "code",
   "execution_count": 4,
   "metadata": {},
   "outputs": [
    {
     "name": "stdout",
     "output_type": "stream",
     "text": [
      "Pooled sample variance is 15.085 and Sample variance of effect is 2.51416666667\n"
     ]
    }
   ],
   "source": [
    "df_che['Sample_Variance']= ((df_che['Y_bar']-df_che['Week 1'])*(df_che['Y_bar']-df_che['Week 1']) \\\n",
    "                            + (df_che['Y_bar']-df_che['Week 2'])*(df_che['Y_bar']-df_che['Week 2']) \\\n",
    "                            + (df_che['Y_bar']-df_che['Week 3'])*(df_che['Y_bar']-df_che['Week 3']) )/2.0\n",
    "s_p2 = (df_che['Sample_Variance'].sum())/8.0\n",
    "# As we know that sample variance of an effect is same for all effects we find it as\n",
    "# Here N= 8*3 = 24\n",
    "N = 24.0\n",
    "s_vareffect = (4.0*s_p2)/N\n",
    "print 'Pooled sample variance is',s_p2, 'and Sample variance of effect is',s_vareffect"
   ]
  },
  {
   "cell_type": "markdown",
   "metadata": {},
   "source": [
    "To calculate the Confidence Interval we use 16 degree of freedom so our two t values are:\n",
    "    $$ t_{16,97.5} = 2.120 $$\n",
    "    $$ t_{16,2.5} = -2.120 $$"
   ]
  },
  {
   "cell_type": "markdown",
   "metadata": {},
   "source": [
    "Confidence Intervals of Effect is now calculated as follows :\n",
    "    $$ Confidence Interval = E_i \\pm 2.12*S_{effect} $$"
   ]
  },
  {
   "cell_type": "code",
   "execution_count": 5,
   "metadata": {},
   "outputs": [
    {
     "name": "stdout",
     "output_type": "stream",
     "text": [
      "Confidence Interval of Temperature is (7.938501722941588, 14.661498277058413)\n",
      "Confidence Interval of Catalyst is (-6.178164943725086, 0.5448316103917392)\n",
      "Confidence Interval of pH is (4.971835056274916, 11.694831610391741)\n",
      "Confidence Interval of interaction of Temperature and Catalyst is (-7.144831610391748, -0.42183505627492224)\n",
      "Confidence Interval of interaction of Temperature and pH is (-1.4281649437250792, 5.294831610391746)\n",
      "Confidence Interval of interaction of Catalyst and pH  is (-2.4781649437250906, 4.244831610391735)\n",
      "Confidence Interval of interaction of Temperature, Catalyst and pH is (-5.9781649437250834, 0.7448316103917421)\n"
     ]
    }
   ],
   "source": [
    "s_stdeffect = math.sqrt(s_vareffect)\n",
    "CI_temp = (E_temp - 2.12*s_stdeffect,E_temp + 2.12*s_stdeffect)\n",
    "CI_cat = (E_cat - 2.12*s_stdeffect,E_cat + 2.12*s_stdeffect)\n",
    "CI_pH = (E_pH - 2.12*s_stdeffect,E_pH + 2.12*s_stdeffect)\n",
    "CI_tempcat = (E_tempcat - 2.12*s_stdeffect,E_tempcat + 2.12*s_stdeffect)\n",
    "CI_temppH = (E_temppH - 2.12*s_stdeffect,E_temppH + 2.12*s_stdeffect)\n",
    "CI_catpH = (E_catpH - 2.12*s_stdeffect,E_catpH + 2.12*s_stdeffect)\n",
    "CI_tempcatpH = (E_tempcatpH - 2.12*s_stdeffect,E_tempcatpH + 2.12*s_stdeffect)\n",
    "print 'Confidence Interval of Temperature is',CI_temp\n",
    "print 'Confidence Interval of Catalyst is',CI_cat\n",
    "print 'Confidence Interval of pH is',CI_pH\n",
    "print 'Confidence Interval of interaction of Temperature and Catalyst is',CI_tempcat\n",
    "print 'Confidence Interval of interaction of Temperature and pH is',CI_temppH\n",
    "print 'Confidence Interval of interaction of Catalyst and pH  is',CI_catpH\n",
    "print 'Confidence Interval of interaction of Temperature, Catalyst and pH is',CI_tempcatpH"
   ]
  },
  {
   "cell_type": "markdown",
   "metadata": {},
   "source": [
    "Confidence Intervals of Temperature, pH and interaction of Temperature and Catalyst do not contain zero so we can say that the effects Temperature, pH and interaction of Temperature and Catalyst are significant. <br>\n",
    "Confidence Intervals of Catalyst,interaction of Temperature and pH, interaction of Catalyst and pH and interaction of Temperature, Catalyst and pH do contain zero so we can say that these effects are not significant."
   ]
  },
  {
   "cell_type": "markdown",
   "metadata": {},
   "source": [
    "### 19.7 c)\n",
    "\n",
    "Now the model with only the statistically significant terms are as follows:\n",
    "\n",
    "$$ b_0 = 69.55 $$ <br>\n",
    "$$ b_{Temperature}= \\frac{E_{Temperature}}{2} = 5.65 $$ <br>\n",
    "$$ b_{pH}= \\frac{E_{pH}}{2} = 4.166 $$ <br>\n",
    "$$ b_{Tempcatalyst}= \\frac{E_{Tempcatalyst}}{2} = -1.89 $$\n",
    "\n",
    "So the final model is \n",
    "\n",
    "$$ y = 69.55 + 5.65*Temperature +4.166*pH -1.89*TemperatureCatalyst $$\n",
    "\n",
    "Now we calculate the predicted values of y for this"
   ]
  },
  {
   "cell_type": "code",
   "execution_count": 6,
   "metadata": {},
   "outputs": [
    {
     "data": {
      "text/html": [
       "<div>\n",
       "<style>\n",
       "    .dataframe thead tr:only-child th {\n",
       "        text-align: right;\n",
       "    }\n",
       "\n",
       "    .dataframe thead th {\n",
       "        text-align: left;\n",
       "    }\n",
       "\n",
       "    .dataframe tbody tr th {\n",
       "        vertical-align: top;\n",
       "    }\n",
       "</style>\n",
       "<table border=\"1\" class=\"dataframe\">\n",
       "  <thead>\n",
       "    <tr style=\"text-align: right;\">\n",
       "      <th></th>\n",
       "      <th>test_number</th>\n",
       "      <th>temp</th>\n",
       "      <th>pH</th>\n",
       "      <th>tempcatalyst</th>\n",
       "      <th>y</th>\n",
       "      <th>y_pred</th>\n",
       "      <th>error</th>\n",
       "      <th>error_sorted</th>\n",
       "      <th>Probability</th>\n",
       "    </tr>\n",
       "  </thead>\n",
       "  <tbody>\n",
       "    <tr>\n",
       "      <th>0</th>\n",
       "      <td>1</td>\n",
       "      <td>-1</td>\n",
       "      <td>-1</td>\n",
       "      <td>-1</td>\n",
       "      <td>59.6</td>\n",
       "      <td>61.624</td>\n",
       "      <td>-2.024</td>\n",
       "      <td>-8.824</td>\n",
       "      <td>0.020833</td>\n",
       "    </tr>\n",
       "    <tr>\n",
       "      <th>1</th>\n",
       "      <td>2</td>\n",
       "      <td>1</td>\n",
       "      <td>1</td>\n",
       "      <td>1</td>\n",
       "      <td>75.3</td>\n",
       "      <td>77.476</td>\n",
       "      <td>-2.176</td>\n",
       "      <td>-4.124</td>\n",
       "      <td>0.062500</td>\n",
       "    </tr>\n",
       "    <tr>\n",
       "      <th>2</th>\n",
       "      <td>3</td>\n",
       "      <td>1</td>\n",
       "      <td>-1</td>\n",
       "      <td>1</td>\n",
       "      <td>66.7</td>\n",
       "      <td>69.144</td>\n",
       "      <td>-2.444</td>\n",
       "      <td>-3.856</td>\n",
       "      <td>0.104167</td>\n",
       "    </tr>\n",
       "    <tr>\n",
       "      <th>3</th>\n",
       "      <td>4</td>\n",
       "      <td>1</td>\n",
       "      <td>1</td>\n",
       "      <td>-1</td>\n",
       "      <td>91.2</td>\n",
       "      <td>81.256</td>\n",
       "      <td>9.944</td>\n",
       "      <td>-2.876</td>\n",
       "      <td>0.145833</td>\n",
       "    </tr>\n",
       "    <tr>\n",
       "      <th>4</th>\n",
       "      <td>5</td>\n",
       "      <td>-1</td>\n",
       "      <td>-1</td>\n",
       "      <td>1</td>\n",
       "      <td>60.4</td>\n",
       "      <td>57.844</td>\n",
       "      <td>2.556</td>\n",
       "      <td>-2.444</td>\n",
       "      <td>0.187500</td>\n",
       "    </tr>\n",
       "    <tr>\n",
       "      <th>5</th>\n",
       "      <td>6</td>\n",
       "      <td>-1</td>\n",
       "      <td>1</td>\n",
       "      <td>-1</td>\n",
       "      <td>68.1</td>\n",
       "      <td>69.956</td>\n",
       "      <td>-1.856</td>\n",
       "      <td>-2.176</td>\n",
       "      <td>0.229167</td>\n",
       "    </tr>\n",
       "    <tr>\n",
       "      <th>6</th>\n",
       "      <td>7</td>\n",
       "      <td>-1</td>\n",
       "      <td>1</td>\n",
       "      <td>1</td>\n",
       "      <td>63.3</td>\n",
       "      <td>66.176</td>\n",
       "      <td>-2.876</td>\n",
       "      <td>-2.024</td>\n",
       "      <td>0.270833</td>\n",
       "    </tr>\n",
       "    <tr>\n",
       "      <th>7</th>\n",
       "      <td>8</td>\n",
       "      <td>1</td>\n",
       "      <td>-1</td>\n",
       "      <td>-1</td>\n",
       "      <td>64.1</td>\n",
       "      <td>72.924</td>\n",
       "      <td>-8.824</td>\n",
       "      <td>-1.856</td>\n",
       "      <td>0.312500</td>\n",
       "    </tr>\n",
       "    <tr>\n",
       "      <th>8</th>\n",
       "      <td>9</td>\n",
       "      <td>-1</td>\n",
       "      <td>1</td>\n",
       "      <td>1</td>\n",
       "      <td>66.0</td>\n",
       "      <td>66.176</td>\n",
       "      <td>-0.176</td>\n",
       "      <td>-1.844</td>\n",
       "      <td>0.354167</td>\n",
       "    </tr>\n",
       "    <tr>\n",
       "      <th>9</th>\n",
       "      <td>10</td>\n",
       "      <td>-1</td>\n",
       "      <td>-1</td>\n",
       "      <td>1</td>\n",
       "      <td>62.1</td>\n",
       "      <td>57.844</td>\n",
       "      <td>4.256</td>\n",
       "      <td>-1.376</td>\n",
       "      <td>0.395833</td>\n",
       "    </tr>\n",
       "    <tr>\n",
       "      <th>10</th>\n",
       "      <td>11</td>\n",
       "      <td>1</td>\n",
       "      <td>-1</td>\n",
       "      <td>-1</td>\n",
       "      <td>79.4</td>\n",
       "      <td>72.924</td>\n",
       "      <td>6.476</td>\n",
       "      <td>-1.356</td>\n",
       "      <td>0.437500</td>\n",
       "    </tr>\n",
       "    <tr>\n",
       "      <th>11</th>\n",
       "      <td>12</td>\n",
       "      <td>-1</td>\n",
       "      <td>1</td>\n",
       "      <td>-1</td>\n",
       "      <td>71.3</td>\n",
       "      <td>69.956</td>\n",
       "      <td>1.344</td>\n",
       "      <td>-0.876</td>\n",
       "      <td>0.479167</td>\n",
       "    </tr>\n",
       "    <tr>\n",
       "      <th>12</th>\n",
       "      <td>13</td>\n",
       "      <td>-1</td>\n",
       "      <td>-1</td>\n",
       "      <td>-1</td>\n",
       "      <td>61.2</td>\n",
       "      <td>61.624</td>\n",
       "      <td>-0.424</td>\n",
       "      <td>-0.424</td>\n",
       "      <td>0.520833</td>\n",
       "    </tr>\n",
       "    <tr>\n",
       "      <th>13</th>\n",
       "      <td>14</td>\n",
       "      <td>1</td>\n",
       "      <td>1</td>\n",
       "      <td>-1</td>\n",
       "      <td>77.4</td>\n",
       "      <td>81.256</td>\n",
       "      <td>-3.856</td>\n",
       "      <td>-0.376</td>\n",
       "      <td>0.562500</td>\n",
       "    </tr>\n",
       "    <tr>\n",
       "      <th>14</th>\n",
       "      <td>15</td>\n",
       "      <td>1</td>\n",
       "      <td>1</td>\n",
       "      <td>1</td>\n",
       "      <td>77.1</td>\n",
       "      <td>77.476</td>\n",
       "      <td>-0.376</td>\n",
       "      <td>-0.244</td>\n",
       "      <td>0.604167</td>\n",
       "    </tr>\n",
       "    <tr>\n",
       "      <th>15</th>\n",
       "      <td>16</td>\n",
       "      <td>1</td>\n",
       "      <td>-1</td>\n",
       "      <td>1</td>\n",
       "      <td>67.3</td>\n",
       "      <td>69.144</td>\n",
       "      <td>-1.844</td>\n",
       "      <td>-0.176</td>\n",
       "      <td>0.645833</td>\n",
       "    </tr>\n",
       "    <tr>\n",
       "      <th>16</th>\n",
       "      <td>17</td>\n",
       "      <td>-1</td>\n",
       "      <td>-1</td>\n",
       "      <td>-1</td>\n",
       "      <td>57.5</td>\n",
       "      <td>61.624</td>\n",
       "      <td>-4.124</td>\n",
       "      <td>1.076</td>\n",
       "      <td>0.687500</td>\n",
       "    </tr>\n",
       "    <tr>\n",
       "      <th>17</th>\n",
       "      <td>18</td>\n",
       "      <td>1</td>\n",
       "      <td>1</td>\n",
       "      <td>-1</td>\n",
       "      <td>84.9</td>\n",
       "      <td>81.256</td>\n",
       "      <td>3.644</td>\n",
       "      <td>1.344</td>\n",
       "      <td>0.729167</td>\n",
       "    </tr>\n",
       "    <tr>\n",
       "      <th>18</th>\n",
       "      <td>19</td>\n",
       "      <td>-1</td>\n",
       "      <td>-1</td>\n",
       "      <td>1</td>\n",
       "      <td>63.4</td>\n",
       "      <td>57.844</td>\n",
       "      <td>5.556</td>\n",
       "      <td>2.556</td>\n",
       "      <td>0.770833</td>\n",
       "    </tr>\n",
       "    <tr>\n",
       "      <th>19</th>\n",
       "      <td>20</td>\n",
       "      <td>1</td>\n",
       "      <td>1</td>\n",
       "      <td>1</td>\n",
       "      <td>76.1</td>\n",
       "      <td>77.476</td>\n",
       "      <td>-1.376</td>\n",
       "      <td>3.644</td>\n",
       "      <td>0.812500</td>\n",
       "    </tr>\n",
       "    <tr>\n",
       "      <th>20</th>\n",
       "      <td>21</td>\n",
       "      <td>-1</td>\n",
       "      <td>1</td>\n",
       "      <td>-1</td>\n",
       "      <td>68.6</td>\n",
       "      <td>69.956</td>\n",
       "      <td>-1.356</td>\n",
       "      <td>4.256</td>\n",
       "      <td>0.854167</td>\n",
       "    </tr>\n",
       "    <tr>\n",
       "      <th>21</th>\n",
       "      <td>22</td>\n",
       "      <td>1</td>\n",
       "      <td>-1</td>\n",
       "      <td>1</td>\n",
       "      <td>68.9</td>\n",
       "      <td>69.144</td>\n",
       "      <td>-0.244</td>\n",
       "      <td>5.556</td>\n",
       "      <td>0.895833</td>\n",
       "    </tr>\n",
       "    <tr>\n",
       "      <th>22</th>\n",
       "      <td>23</td>\n",
       "      <td>1</td>\n",
       "      <td>-1</td>\n",
       "      <td>-1</td>\n",
       "      <td>74.0</td>\n",
       "      <td>72.924</td>\n",
       "      <td>1.076</td>\n",
       "      <td>6.476</td>\n",
       "      <td>0.937500</td>\n",
       "    </tr>\n",
       "    <tr>\n",
       "      <th>23</th>\n",
       "      <td>24</td>\n",
       "      <td>-1</td>\n",
       "      <td>1</td>\n",
       "      <td>1</td>\n",
       "      <td>65.3</td>\n",
       "      <td>66.176</td>\n",
       "      <td>-0.876</td>\n",
       "      <td>9.944</td>\n",
       "      <td>0.979167</td>\n",
       "    </tr>\n",
       "  </tbody>\n",
       "</table>\n",
       "</div>"
      ],
      "text/plain": [
       "    test_number  temp  pH  tempcatalyst     y  y_pred  error  error_sorted  \\\n",
       "0             1    -1  -1            -1  59.6  61.624 -2.024        -8.824   \n",
       "1             2     1   1             1  75.3  77.476 -2.176        -4.124   \n",
       "2             3     1  -1             1  66.7  69.144 -2.444        -3.856   \n",
       "3             4     1   1            -1  91.2  81.256  9.944        -2.876   \n",
       "4             5    -1  -1             1  60.4  57.844  2.556        -2.444   \n",
       "5             6    -1   1            -1  68.1  69.956 -1.856        -2.176   \n",
       "6             7    -1   1             1  63.3  66.176 -2.876        -2.024   \n",
       "7             8     1  -1            -1  64.1  72.924 -8.824        -1.856   \n",
       "8             9    -1   1             1  66.0  66.176 -0.176        -1.844   \n",
       "9            10    -1  -1             1  62.1  57.844  4.256        -1.376   \n",
       "10           11     1  -1            -1  79.4  72.924  6.476        -1.356   \n",
       "11           12    -1   1            -1  71.3  69.956  1.344        -0.876   \n",
       "12           13    -1  -1            -1  61.2  61.624 -0.424        -0.424   \n",
       "13           14     1   1            -1  77.4  81.256 -3.856        -0.376   \n",
       "14           15     1   1             1  77.1  77.476 -0.376        -0.244   \n",
       "15           16     1  -1             1  67.3  69.144 -1.844        -0.176   \n",
       "16           17    -1  -1            -1  57.5  61.624 -4.124         1.076   \n",
       "17           18     1   1            -1  84.9  81.256  3.644         1.344   \n",
       "18           19    -1  -1             1  63.4  57.844  5.556         2.556   \n",
       "19           20     1   1             1  76.1  77.476 -1.376         3.644   \n",
       "20           21    -1   1            -1  68.6  69.956 -1.356         4.256   \n",
       "21           22     1  -1             1  68.9  69.144 -0.244         5.556   \n",
       "22           23     1  -1            -1  74.0  72.924  1.076         6.476   \n",
       "23           24    -1   1             1  65.3  66.176 -0.876         9.944   \n",
       "\n",
       "    Probability  \n",
       "0      0.020833  \n",
       "1      0.062500  \n",
       "2      0.104167  \n",
       "3      0.145833  \n",
       "4      0.187500  \n",
       "5      0.229167  \n",
       "6      0.270833  \n",
       "7      0.312500  \n",
       "8      0.354167  \n",
       "9      0.395833  \n",
       "10     0.437500  \n",
       "11     0.479167  \n",
       "12     0.520833  \n",
       "13     0.562500  \n",
       "14     0.604167  \n",
       "15     0.645833  \n",
       "16     0.687500  \n",
       "17     0.729167  \n",
       "18     0.770833  \n",
       "19     0.812500  \n",
       "20     0.854167  \n",
       "21     0.895833  \n",
       "22     0.937500  \n",
       "23     0.979167  "
      ]
     },
     "execution_count": 6,
     "metadata": {},
     "output_type": "execute_result"
    }
   ],
   "source": [
    "temp = np.array([-1,1,1,1,-1,-1,-1,1,-1,-1,1,-1,-1,1,1,1,-1,1,-1,1,-1,1,1,-1])\n",
    "pH = np.array([-1,1,-1,1,-1,1,1,-1,1,-1,-1,1,-1,1,1,-1,-1,1,-1,1,1,-1,-1,1])\n",
    "tempcatalyst = np.array([-1,1,1,-1,1,-1,1,-1,1,1,-1,-1,-1,-1,1,1,-1,-1,1,1,-1,1,-1,1])\n",
    "test_number = np.array(range(1,25))\n",
    "y = np.array([59.6,75.3,66.7,91.2,60.4,68.1,63.3,64.1,66,62.1,79.4,71.3,61.2,77.4,77.1,67.3,57.5,84.9,63.4,76.1,68.6,68.9,74,65.3])\n",
    "df_res = pd.DataFrame({})\n",
    "df_res['test_number']=test_number\n",
    "df_res['temp']=temp\n",
    "df_res['pH']=pH\n",
    "df_res['tempcatalyst']=tempcatalyst\n",
    "df_res['y']=y\n",
    "df_res['y_pred'] = 69.55 + 5.65*df_res['temp'] + 4.166*df_res['pH'] -1.89*df_res['tempcatalyst']\n",
    "df_res['error'] = df_res['y']-df_res['y_pred']\n",
    "errorsorted = df_res.error.values\n",
    "errorsorted = sorted(errorsorted)\n",
    "df_res['error_sorted'] = errorsorted \n",
    "df_res['Probability'] = (df_res['test_number']-0.5)/24.0\n",
    "df_res"
   ]
  },
  {
   "cell_type": "code",
   "execution_count": 7,
   "metadata": {},
   "outputs": [
    {
     "data": {
      "text/plain": [
       "<matplotlib.text.Text at 0x10e267b10>"
      ]
     },
     "execution_count": 7,
     "metadata": {},
     "output_type": "execute_result"
    },
    {
     "data": {
      "image/png": "[encoded data removed]",
      "text/plain": [
       "<matplotlib.figure.Figure at 0x10bbd49d0>"
      ]
     },
     "metadata": {},
     "output_type": "display_data"
    }
   ],
   "source": [
    "df_res.plot(x='pH', y='error', style='o',figsize=(5,3))\n",
    "plt.ylabel(\"Error value\")\n",
    "plt.xlim(-2,2)\n",
    "plt.title(\"Error vs pH\")"
   ]
  },
  {
   "cell_type": "code",
   "execution_count": 8,
   "metadata": {},
   "outputs": [
    {
     "data": {
      "text/plain": [
       "<matplotlib.text.Text at 0x10e348150>"
      ]
     },
     "execution_count": 8,
     "metadata": {},
     "output_type": "execute_result"
    },
    {
     "data": {
      "image/png": "[encoded data removed]",
      "text/plain": [
       "<matplotlib.figure.Figure at 0x101ab72d0>"
      ]
     },
     "metadata": {},
     "output_type": "display_data"
    }
   ],
   "source": [
    "df_res.plot(x='temp', y='error', style='o',figsize=(5,3))\n",
    "plt.ylabel(\"Error value\")\n",
    "plt.xlim(-2,2)\n",
    "plt.title(\"Error vs Temperature\")"
   ]
  },
  {
   "cell_type": "markdown",
   "metadata": {},
   "source": [
    "** The above plot shows that the model is not uniform in variability which is a strong indicator of dispersion effect **"
   ]
  },
  {
   "cell_type": "code",
   "execution_count": 9,
   "metadata": {},
   "outputs": [
    {
     "data": {
      "text/plain": [
       "<matplotlib.text.Text at 0x10e4f4cd0>"
      ]
     },
     "execution_count": 9,
     "metadata": {},
     "output_type": "execute_result"
    },
    {
     "data": {
      "image/png": "[encoded data removed]",
      "text/plain": [
       "<matplotlib.figure.Figure at 0x10e41fdd0>"
      ]
     },
     "metadata": {},
     "output_type": "display_data"
    }
   ],
   "source": [
    "df_res.plot(x='tempcatalyst', y='error', style='o',figsize=(5,3))\n",
    "plt.ylabel(\"Error value\")\n",
    "plt.xlim(-2,2)\n",
    "plt.title(\"Error vs TemperatureCatalyst\")"
   ]
  },
  {
   "cell_type": "code",
   "execution_count": 10,
   "metadata": {},
   "outputs": [
    {
     "data": {
      "text/plain": [
       "<matplotlib.text.Text at 0x10e608c90>"
      ]
     },
     "execution_count": 10,
     "metadata": {},
     "output_type": "execute_result"
    },
    {
     "data": {
      "image/png": "[encoded data removed]",
      "text/plain": [
       "<matplotlib.figure.Figure at 0x10e55af10>"
      ]
     },
     "metadata": {},
     "output_type": "display_data"
    }
   ],
   "source": [
    "df_res.plot(x='test_number', y='error', style='o',figsize=(5,3))\n",
    "plt.ylabel(\"Error value\")\n",
    "plt.title(\"Plot of residual vs test order\")"
   ]
  },
  {
   "cell_type": "markdown",
   "metadata": {},
   "source": [
    "** The above plot shows random pattern of residuals **"
   ]
  },
  {
   "cell_type": "code",
   "execution_count": 11,
   "metadata": {},
   "outputs": [
    {
     "data": {
      "text/plain": [
       "<matplotlib.text.Text at 0x10e6c69d0>"
      ]
     },
     "execution_count": 11,
     "metadata": {},
     "output_type": "execute_result"
    },
    {
     "data": {
      "image/png": "[encoded data removed]",
      "text/plain": [
       "<matplotlib.figure.Figure at 0x10e46cc50>"
      ]
     },
     "metadata": {},
     "output_type": "display_data"
    }
   ],
   "source": [
    "df_res.plot(x='y_pred', y='error', style='o',figsize=(5,3))\n",
    "plt.ylabel(\"Error value\")\n",
    "plt.xlim(50,85)\n",
    "plt.title(\"Plot of residual vs predicted response\")"
   ]
  },
  {
   "cell_type": "markdown",
   "metadata": {},
   "source": [
    "**Uneven residual variability is seen which shows the dispersion effect of temperature**"
   ]
  },
  {
   "cell_type": "code",
   "execution_count": 13,
   "metadata": {},
   "outputs": [
    {
     "data": {
      "text/plain": [
       "<matplotlib.text.Text at 0x10e98bc10>"
      ]
     },
     "execution_count": 13,
     "metadata": {},
     "output_type": "execute_result"
    },
    {
     "data": {
      "image/png": "[encoded data removed]",
      "text/plain": [
       "<matplotlib.figure.Figure at 0x10e66b750>"
      ]
     },
     "metadata": {},
     "output_type": "display_data"
    }
   ],
   "source": [
    "df_res.plot(x='error_sorted', y='Probability', style='o',figsize=(5,3))\n",
    "plt.xlim(-10,10)\n",
    "plt.ylim(0,1)\n",
    "plt.plot([-10,10], [0, 1], 'k--')\n",
    "plt.ylabel(\"Probability\")\n",
    "plt.title(\"Normal Probability of Residuals\")"
   ]
  },
  {
   "cell_type": "markdown",
   "metadata": {},
   "source": [
    "**Since in the plot above the errors do not lie on the straight line we can say that they don't exactly follow a Normal distribution**"
   ]
  },
  {
   "cell_type": "markdown",
   "metadata": {},
   "source": [
    "### 19.19 b)\n",
    "\n",
    "To get the effect for a Variable we simply multiply the corresponding value of the variable column with the mean response value then sum all these values and divide the sum by 2 to get the effect value."
   ]
  },
  {
   "cell_type": "code",
   "execution_count": 14,
   "metadata": {},
   "outputs": [
    {
     "data": {
      "text/html": [
       "<div>\n",
       "<style>\n",
       "    .dataframe thead tr:only-child th {\n",
       "        text-align: right;\n",
       "    }\n",
       "\n",
       "    .dataframe thead th {\n",
       "        text-align: left;\n",
       "    }\n",
       "\n",
       "    .dataframe tbody tr th {\n",
       "        vertical-align: top;\n",
       "    }\n",
       "</style>\n",
       "<table border=\"1\" class=\"dataframe\">\n",
       "  <thead>\n",
       "    <tr style=\"text-align: right;\">\n",
       "      <th></th>\n",
       "      <th>Test</th>\n",
       "      <th>Fixture Type</th>\n",
       "      <th>Workplace Layout</th>\n",
       "      <th>FixtureType*WorkplaceLayout</th>\n",
       "      <th>Y_1</th>\n",
       "      <th>Y_2</th>\n",
       "      <th>Y_3</th>\n",
       "      <th>Y_4</th>\n",
       "      <th>Y_bar</th>\n",
       "    </tr>\n",
       "  </thead>\n",
       "  <tbody>\n",
       "    <tr>\n",
       "      <th>0</th>\n",
       "      <td>1</td>\n",
       "      <td>-1</td>\n",
       "      <td>-1</td>\n",
       "      <td>1</td>\n",
       "      <td>10.24</td>\n",
       "      <td>9.78</td>\n",
       "      <td>9.96</td>\n",
       "      <td>10.23</td>\n",
       "      <td>10.0525</td>\n",
       "    </tr>\n",
       "    <tr>\n",
       "      <th>1</th>\n",
       "      <td>2</td>\n",
       "      <td>1</td>\n",
       "      <td>-1</td>\n",
       "      <td>-1</td>\n",
       "      <td>9.90</td>\n",
       "      <td>8.50</td>\n",
       "      <td>8.86</td>\n",
       "      <td>8.54</td>\n",
       "      <td>8.9500</td>\n",
       "    </tr>\n",
       "    <tr>\n",
       "      <th>2</th>\n",
       "      <td>3</td>\n",
       "      <td>-1</td>\n",
       "      <td>1</td>\n",
       "      <td>-1</td>\n",
       "      <td>14.30</td>\n",
       "      <td>13.48</td>\n",
       "      <td>12.10</td>\n",
       "      <td>11.98</td>\n",
       "      <td>12.9650</td>\n",
       "    </tr>\n",
       "    <tr>\n",
       "      <th>3</th>\n",
       "      <td>4</td>\n",
       "      <td>1</td>\n",
       "      <td>1</td>\n",
       "      <td>1</td>\n",
       "      <td>9.82</td>\n",
       "      <td>10.56</td>\n",
       "      <td>9.42</td>\n",
       "      <td>9.50</td>\n",
       "      <td>9.8250</td>\n",
       "    </tr>\n",
       "  </tbody>\n",
       "</table>\n",
       "</div>"
      ],
      "text/plain": [
       "   Test  Fixture Type  Workplace Layout  FixtureType*WorkplaceLayout    Y_1  \\\n",
       "0     1            -1                -1                            1  10.24   \n",
       "1     2             1                -1                           -1   9.90   \n",
       "2     3            -1                 1                           -1  14.30   \n",
       "3     4             1                 1                            1   9.82   \n",
       "\n",
       "     Y_2    Y_3    Y_4    Y_bar  \n",
       "0   9.78   9.96  10.23  10.0525  \n",
       "1   8.50   8.86   8.54   8.9500  \n",
       "2  13.48  12.10  11.98  12.9650  \n",
       "3  10.56   9.42   9.50   9.8250  "
      ]
     },
     "execution_count": 14,
     "metadata": {},
     "output_type": "execute_result"
    }
   ],
   "source": [
    "df_time = pd.read_csv('Time_Assembly.csv')\n",
    "df_time['Y_bar']= (df_time['Y_1'] + df_time['Y_2'] + df_time['Y_3'] + df_time['Y_4'])/4.0\n",
    "df_time['FixtureType*WorkplaceLayout']= df_time['Fixture Type']*df_time['Workplace Layout']\n",
    "df_time = df_time[['Test','Fixture Type','Workplace Layout','FixtureType*WorkplaceLayout','Y_1','Y_2','Y_3','Y_4','Y_bar']]\n",
    "df_time"
   ]
  },
  {
   "cell_type": "code",
   "execution_count": null,
   "metadata": {
    "collapsed": true
   },
   "outputs": [],
   "source": []
  },
  {
   "cell_type": "code",
   "execution_count": 15,
   "metadata": {},
   "outputs": [
    {
     "name": "stdout",
     "output_type": "stream",
     "text": [
      "Effect of Fixture Type is -2.12125\n",
      "Effect of Workplace Layout is 1.89375\n",
      "Effect of interaction of Fixture Type and Workplace Layout is -1.01875\n"
     ]
    }
   ],
   "source": [
    "E_fixtype = ((df_time['Fixture Type']*df_time['Y_bar']).sum())/2.0\n",
    "E_worklay = ((df_time['Workplace Layout']*df_time['Y_bar']).sum())/2.0\n",
    "E_fixwork = ((df_time['FixtureType*WorkplaceLayout']*df_time['Y_bar']).sum())/2.0\n",
    "print 'Effect of Fixture Type is',E_fixtype\n",
    "print 'Effect of Workplace Layout is',E_worklay\n",
    "print 'Effect of interaction of Fixture Type and Workplace Layout is',E_fixwork"
   ]
  },
  {
   "cell_type": "markdown",
   "metadata": {},
   "source": [
    "As we know that all the cases are replicated equal number of times we use the following formula \n",
    "\n",
    "$$ {S_{p}}^2 = \\frac{{S_{1}}^2+{S_{2}}^2 + ... + {S_{k}}^2}{k}$$ where k is the number of test levels which in our case is 4 <br>\n",
    "where each $ {S_{i}}^2 $ is the sample variance of an individual test level"
   ]
  },
  {
   "cell_type": "code",
   "execution_count": 16,
   "metadata": {},
   "outputs": [
    {
     "name": "stdout",
     "output_type": "stream",
     "text": [
      "Pooled Sample Variance is 0.500539583333\n"
     ]
    }
   ],
   "source": [
    "df_time['Sample_Variance']= ((df_time['Y_bar']-df_time['Y_1'])*(df_time['Y_bar']-df_time['Y_1']) \\\n",
    "                            + (df_time['Y_bar']-df_time['Y_2'])*(df_time['Y_bar']-df_time['Y_2']) \\\n",
    "                            + (df_time['Y_bar']-df_time['Y_3'])*(df_time['Y_bar']-df_time['Y_3']) \\\n",
    "                            + (df_time['Y_bar']-df_time['Y_4'])*(df_time['Y_bar']-df_time['Y_4']))/3.0\n",
    "s_p2 = (df_time['Sample_Variance'].sum())/4.0\n",
    "print 'Pooled Sample Variance is',s_p2"
   ]
  },
  {
   "cell_type": "markdown",
   "metadata": {},
   "source": [
    "### 19.19 a)\n",
    "\n",
    "Here we have n = 4 and m = 4 $$ \\bar{\\bar{y}} = \\frac{\\bar{y_1}+\\bar{y_2}+\\bar{y_3}+\\bar{y_4}}{4} $$\n",
    "\n",
    "$$ SS(Mean) = nm\\bar{\\bar{y}}^2 $$ and its degree of freedom is 1\n",
    "$$ SS(Between tests) = n\\sum_{i=1}^{m}{(\\bar{y_i}-\\bar{\\bar{y}})^2} $$ and its degree of freedom are m-1\n",
    "$$ SS(within tests) = \\sum_{i=1}^{m}\\sum_{j=1}^{n}{(y_{ij}-\\bar{y_i})^2} $$ and its degree of freedom are m(n-1)"
   ]
  },
  {
   "cell_type": "code",
   "execution_count": 17,
   "metadata": {},
   "outputs": [
    {
     "data": {
      "text/html": [
       "<div>\n",
       "<style>\n",
       "    .dataframe thead tr:only-child th {\n",
       "        text-align: right;\n",
       "    }\n",
       "\n",
       "    .dataframe thead th {\n",
       "        text-align: left;\n",
       "    }\n",
       "\n",
       "    .dataframe tbody tr th {\n",
       "        vertical-align: top;\n",
       "    }\n",
       "</style>\n",
       "<table border=\"1\" class=\"dataframe\">\n",
       "  <thead>\n",
       "    <tr style=\"text-align: right;\">\n",
       "      <th></th>\n",
       "      <th>Sources of Variation</th>\n",
       "      <th>Sum of Squares</th>\n",
       "      <th>Degrees of Freedom</th>\n",
       "      <th>Mean Square</th>\n",
       "      <th>F Value</th>\n",
       "    </tr>\n",
       "  </thead>\n",
       "  <tbody>\n",
       "    <tr>\n",
       "      <th>0</th>\n",
       "      <td>Mean</td>\n",
       "      <td>1746.613056</td>\n",
       "      <td>1</td>\n",
       "      <td>1746.613056</td>\n",
       "      <td>3489.460403</td>\n",
       "    </tr>\n",
       "    <tr>\n",
       "      <th>1</th>\n",
       "      <td>Between Tests</td>\n",
       "      <td>36.495369</td>\n",
       "      <td>3</td>\n",
       "      <td>12.165123</td>\n",
       "      <td>24.304018</td>\n",
       "    </tr>\n",
       "    <tr>\n",
       "      <th>2</th>\n",
       "      <td>Within Tests</td>\n",
       "      <td>6.006475</td>\n",
       "      <td>12</td>\n",
       "      <td>0.500540</td>\n",
       "      <td>NaN</td>\n",
       "    </tr>\n",
       "  </tbody>\n",
       "</table>\n",
       "</div>"
      ],
      "text/plain": [
       "  Sources of Variation  Sum of Squares  Degrees of Freedom  Mean Square  \\\n",
       "0                 Mean     1746.613056                   1  1746.613056   \n",
       "1        Between Tests       36.495369                   3    12.165123   \n",
       "2         Within Tests        6.006475                  12     0.500540   \n",
       "\n",
       "       F Value  \n",
       "0  3489.460403  \n",
       "1    24.304018  \n",
       "2          NaN  "
      ]
     },
     "execution_count": 17,
     "metadata": {},
     "output_type": "execute_result"
    }
   ],
   "source": [
    "n =4\n",
    "m = 4\n",
    "y_grandave = (df_time['Y_bar'].sum())/m\n",
    "SS_Mean = n*m*y_grandave*y_grandave\n",
    "dof_Mean = 1\n",
    "MS_Mean = SS_Mean/float(dof_Mean)\n",
    "SS_Betweentests = (((df_time['Y_bar']-y_grandave)*(df_time['Y_bar']-y_grandave)).sum())*n\n",
    "dof_Betweentests = m-1\n",
    "MS_Betweentests = SS_Betweentests/float(dof_Betweentests)\n",
    "SS_withintests = (df_time['Sample_Variance'].sum())*(n-1)\n",
    "dof_withintests = m*(n-1)\n",
    "MS_withintests = SS_withintests/float(dof_withintests)\n",
    "anova_time = {}\n",
    "anova_time['Sources of Variation']= ['Mean','Between Tests','Within Tests']\n",
    "anova_time['Sum of Squares']=[SS_Mean,SS_Betweentests,SS_withintests]\n",
    "anova_time['Degrees of Freedom']=[dof_Mean,dof_Betweentests,dof_withintests]\n",
    "anova_time['Mean Square']= [MS_Mean,MS_Betweentests,MS_withintests]\n",
    "anova_time['F Value'] = [MS_Mean/MS_withintests,MS_Betweentests/MS_withintests,np.nan]\n",
    "df_anovatime = pd.DataFrame(anova_time)\n",
    "df_anovatime = df_anovatime[['Sources of Variation','Sum of Squares','Degrees of Freedom','Mean Square','F Value']]\n",
    "df_anovatime"
   ]
  },
  {
   "cell_type": "markdown",
   "metadata": {},
   "source": [
    "Now Critical value of F value for $ \\frac{MS(Betweentests)}{MS(Withintests)} $ is $ F(3,12,95percent) = 3.49 $ <br>\n",
    "**As we see that the F value of 24.30 is much larger than the critical value we can say that variation between the various fixture/layout combinations is statistically significant**"
   ]
  },
  {
   "cell_type": "markdown",
   "metadata": {},
   "source": [
    "### 19.19 c)\n",
    "\n",
    "$$ SS_{E_{fixtype}} = \\frac{nm(E_{fixtype})^2}{4} $$\n",
    "$$ SS_{E_{worklay}} = \\frac{nm(E_{worklay})^2}{4} $$\n",
    "$$ SS_{E_{fixwork}} = \\frac{nm(E_{fixwork})^2}{4} $$\n",
    "\n"
   ]
  },
  {
   "cell_type": "code",
   "execution_count": 18,
   "metadata": {},
   "outputs": [
    {
     "name": "stdout",
     "output_type": "stream",
     "text": [
      "Sum of Squares Fixture Type is 17.99880625\n",
      "Sum of Squares Workplace Layout is 14.34515625\n",
      "Sum of Squares for interaction of Fixture Type and Workplace Layout 4.15140625\n"
     ]
    }
   ],
   "source": [
    "SS_Efixtype = (n*m*E_fixtype*E_fixtype)/4.0\n",
    "SS_Eworklay = (n*m*E_worklay*E_worklay)/4.0 \n",
    "SS_Efixwork = (n*m*E_fixwork*E_fixwork)/4.0\n",
    "print 'Sum of Squares Fixture Type is', SS_Efixtype\n",
    "print 'Sum of Squares Workplace Layout is',SS_Eworklay\n",
    "print 'Sum of Squares for interaction of Fixture Type and Workplace Layout',SS_Efixwork"
   ]
  },
  {
   "cell_type": "code",
   "execution_count": 19,
   "metadata": {},
   "outputs": [
    {
     "data": {
      "text/html": [
       "<div>\n",
       "<style>\n",
       "    .dataframe thead tr:only-child th {\n",
       "        text-align: right;\n",
       "    }\n",
       "\n",
       "    .dataframe thead th {\n",
       "        text-align: left;\n",
       "    }\n",
       "\n",
       "    .dataframe tbody tr th {\n",
       "        vertical-align: top;\n",
       "    }\n",
       "</style>\n",
       "<table border=\"1\" class=\"dataframe\">\n",
       "  <thead>\n",
       "    <tr style=\"text-align: right;\">\n",
       "      <th></th>\n",
       "      <th>Source of Variation</th>\n",
       "      <th>Sum of Squares</th>\n",
       "      <th>Degrees of Freedom</th>\n",
       "      <th>Mean Square</th>\n",
       "      <th>F value</th>\n",
       "    </tr>\n",
       "  </thead>\n",
       "  <tbody>\n",
       "    <tr>\n",
       "      <th>0</th>\n",
       "      <td>Mean</td>\n",
       "      <td>1746.613056</td>\n",
       "      <td>1</td>\n",
       "      <td>1746.613056</td>\n",
       "      <td>3489.460403</td>\n",
       "    </tr>\n",
       "    <tr>\n",
       "      <th>1</th>\n",
       "      <td>E_FixtureType</td>\n",
       "      <td>17.998806</td>\n",
       "      <td>1</td>\n",
       "      <td>17.998806</td>\n",
       "      <td>35.958807</td>\n",
       "    </tr>\n",
       "    <tr>\n",
       "      <th>2</th>\n",
       "      <td>E_Workplacelayout</td>\n",
       "      <td>14.345156</td>\n",
       "      <td>1</td>\n",
       "      <td>14.345156</td>\n",
       "      <td>28.659384</td>\n",
       "    </tr>\n",
       "    <tr>\n",
       "      <th>3</th>\n",
       "      <td>E_FixtureWorkplace</td>\n",
       "      <td>4.151406</td>\n",
       "      <td>1</td>\n",
       "      <td>4.151406</td>\n",
       "      <td>8.293862</td>\n",
       "    </tr>\n",
       "    <tr>\n",
       "      <th>4</th>\n",
       "      <td>Pure Error</td>\n",
       "      <td>6.006475</td>\n",
       "      <td>12</td>\n",
       "      <td>0.500540</td>\n",
       "      <td>NaN</td>\n",
       "    </tr>\n",
       "  </tbody>\n",
       "</table>\n",
       "</div>"
      ],
      "text/plain": [
       "  Source of Variation  Sum of Squares  Degrees of Freedom  Mean Square  \\\n",
       "0                Mean     1746.613056                   1  1746.613056   \n",
       "1       E_FixtureType       17.998806                   1    17.998806   \n",
       "2   E_Workplacelayout       14.345156                   1    14.345156   \n",
       "3  E_FixtureWorkplace        4.151406                   1     4.151406   \n",
       "4          Pure Error        6.006475                  12     0.500540   \n",
       "\n",
       "       F value  \n",
       "0  3489.460403  \n",
       "1    35.958807  \n",
       "2    28.659384  \n",
       "3     8.293862  \n",
       "4          NaN  "
      ]
     },
     "execution_count": 19,
     "metadata": {},
     "output_type": "execute_result"
    }
   ],
   "source": [
    "anova_effects = {}\n",
    "anova_effects['Source of Variation'] = ['Mean','E_FixtureType','E_Workplacelayout','E_FixtureWorkplace','Pure Error']\n",
    "anova_effects['Sum of Squares']= [SS_Mean,SS_Efixtype,SS_Eworklay,SS_Efixwork,SS_withintests]\n",
    "anova_effects['Degrees of Freedom'] = [1,1,1,1,dof_withintests]\n",
    "anova_effects['Mean Square'] = [SS_Mean,SS_Efixtype,SS_Eworklay,SS_Efixwork,MS_withintests]\n",
    "anova_effects['F value'] = [SS_Mean/MS_withintests,SS_Efixtype/MS_withintests,SS_Eworklay/MS_withintests,SS_Efixwork/MS_withintests,np.nan]\n",
    "df_anovaeffects = pd.DataFrame(anova_effects)\n",
    "df_anovaeffects = df_anovaeffects[['Source of Variation','Sum of Squares','Degrees of Freedom','Mean Square','F value']]\n",
    "df_anovaeffects"
   ]
  },
  {
   "cell_type": "markdown",
   "metadata": {},
   "source": [
    "**Now we know that the critical value of F(1,12,95%) = 4.75 and we see that all the F values for the effects are greater than this number so all the effects Fixture Type, Workplace Layout and interaction of Fixture Type and Workplace Layout are significant.**"
   ]
  },
  {
   "cell_type": "markdown",
   "metadata": {},
   "source": [
    "### 19.23 a)\n",
    "\n",
    "$$ y = b_0 + b_1x_1 + b_2x_2 + \\epsilon $$ <br>\n",
    "$$ b_1 = \\frac{E_1}{2} $$ <br>\n",
    "$$ b_2 = \\frac{E_2}{2} $$\n",
    "$$ b_0 = grand average of response = \\bar{\\bar{y}} $$"
   ]
  },
  {
   "cell_type": "code",
   "execution_count": 20,
   "metadata": {},
   "outputs": [
    {
     "name": "stdout",
     "output_type": "stream",
     "text": [
      "b0 value is 2050.335\n",
      "b1 value is -22.335\n",
      "b2 value is -29.335\n",
      "Effect of temperature is -44.67\n",
      "Effect of Flux is -58.67\n",
      "Effect of interaction between temperature and Flux is 2061.33\n"
     ]
    }
   ],
   "source": [
    "df_weld = pd.read_csv('Weld_Strength.csv')\n",
    "df_weld['Temp']=np.array([-1,1,-1,1])\n",
    "df_weld['Flux']=np.array([-1,-1,1,1])\n",
    "df_weld['TempFlux'] = df_weld['Temp']*df_weld['Flux']\n",
    "E_temp = ((df_weld['Average']*df_weld['Temp']).sum())/2.0\n",
    "E_flux = ((df_weld['Average']*df_weld['Flux']).sum())/2.0\n",
    "E_tempflux = ((df_weld['Average']*df_weld['TempFlux']).sum())/2.0\n",
    "y_grandave = (df_weld['Average'].sum())/4.0\n",
    "b_0 = y_grandave\n",
    "b_1 = E_temp/2.0\n",
    "b_2 = E_flux/2.0\n",
    "print \"b0 value is\", b_0\n",
    "print \"b1 value is\", b_1\n",
    "print \"b2 value is\", b_2\n",
    "print \"Effect of temperature is\", E_temp\n",
    "print \"Effect of Flux is\", E_flux\n",
    "print \"Effect of interaction between temperature and Flux is\", E_tempflux"
   ]
  },
  {
   "cell_type": "markdown",
   "metadata": {},
   "source": [
    "So our model becomes \n",
    "$$ y = 2050.335 - 22.335x_1 - 29.335x_2 + \\epsilon $$"
   ]
  },
  {
   "cell_type": "markdown",
   "metadata": {},
   "source": [
    "### 19.23 b)\n",
    "Here n = 4 and m =4\n",
    "Here we have n = 4 and m = 4 $$ \\bar{\\bar{y}} = \\frac{\\bar{y_1}+\\bar{y_2}+\\bar{y_3}+\\bar{y_4}}{4} $$\n",
    "\n",
    "$$ SS(Mean) = nm\\bar{\\bar{y}}^2 $$ and its degree of freedom is 1\n",
    "$$ SS(within tests)=SS(pure error) = \\sum_{i=1}^{m}\\sum_{j=1}^{n}{(y_{ij}-\\bar{y_i})^2} $$ and its degree of freedom are m(n-1)\n",
    "$$ SS_{E_{temperature}} = \\frac{nm(E_{temperature})^2}{4} $$ and its degree of freedom are 1\n",
    "$$ SS_{E_{flux}} = \\frac{nm(E_{flux})^2}{4} $$ and its degree of freedom are 1\n",
    "$$ SS_{E_{tempflux}} = \\frac{nm(E_{tempflux})^2}{4} $$ and its degree of freedom are 1"
   ]
  },
  {
   "cell_type": "code",
   "execution_count": 21,
   "metadata": {},
   "outputs": [
    {
     "name": "stdout",
     "output_type": "stream",
     "text": [
      "Sum of Squares of Mean is 50446483.3467\n",
      "Sum of Squares of Pure error(within tests) is 670758.64\n",
      "Sum of Squares Temperature is 5986.2267\n",
      "Sum of Squares Flux Strength is 10326.5067\n",
      "Sum of Squares for interaction of Temperature and Flux 12747244.1067\n"
     ]
    }
   ],
   "source": [
    "m=4\n",
    "n=3\n",
    "SS_Mean = n*m*y_grandave*y_grandave\n",
    "dof_Mean = 1\n",
    "MS_Mean = SS_Mean/float(dof_Mean)\n",
    "SS_withintests = (df_weld['Sample Variance'].sum())*(n-1)\n",
    "dof_withintests = m*(n-1)\n",
    "MS_withintests = SS_withintests/float(dof_withintests)\n",
    "SS_Etemp = (n*m*E_temp*E_temp)/4.0\n",
    "SS_Eflux = (n*m*E_flux*E_flux)/4.0 \n",
    "SS_Etempflux = (n*m*E_tempflux*E_tempflux)/4.0\n",
    "print 'Sum of Squares of Mean is', SS_Mean\n",
    "print 'Sum of Squares of Pure error(within tests) is', SS_withintests\n",
    "print 'Sum of Squares Temperature is', SS_Etemp\n",
    "print 'Sum of Squares Flux Strength is',SS_Eflux\n",
    "print 'Sum of Squares for interaction of Temperature and Flux',SS_Etempflux"
   ]
  },
  {
   "cell_type": "code",
   "execution_count": 22,
   "metadata": {},
   "outputs": [
    {
     "data": {
      "text/html": [
       "<div>\n",
       "<style>\n",
       "    .dataframe thead tr:only-child th {\n",
       "        text-align: right;\n",
       "    }\n",
       "\n",
       "    .dataframe thead th {\n",
       "        text-align: left;\n",
       "    }\n",
       "\n",
       "    .dataframe tbody tr th {\n",
       "        vertical-align: top;\n",
       "    }\n",
       "</style>\n",
       "<table border=\"1\" class=\"dataframe\">\n",
       "  <thead>\n",
       "    <tr style=\"text-align: right;\">\n",
       "      <th></th>\n",
       "      <th>Source of Variation</th>\n",
       "      <th>Sum of Squares</th>\n",
       "      <th>Degrees of Freedom</th>\n",
       "      <th>Mean Square</th>\n",
       "      <th>F value</th>\n",
       "    </tr>\n",
       "  </thead>\n",
       "  <tbody>\n",
       "    <tr>\n",
       "      <th>0</th>\n",
       "      <td>Mean</td>\n",
       "      <td>5.044648e+07</td>\n",
       "      <td>1</td>\n",
       "      <td>5.044648e+07</td>\n",
       "      <td>601.664806</td>\n",
       "    </tr>\n",
       "    <tr>\n",
       "      <th>1</th>\n",
       "      <td>E_Temperature</td>\n",
       "      <td>5.986227e+03</td>\n",
       "      <td>1</td>\n",
       "      <td>5.986227e+03</td>\n",
       "      <td>0.071396</td>\n",
       "    </tr>\n",
       "    <tr>\n",
       "      <th>2</th>\n",
       "      <td>E_Flux</td>\n",
       "      <td>1.032651e+04</td>\n",
       "      <td>1</td>\n",
       "      <td>1.032651e+04</td>\n",
       "      <td>0.123162</td>\n",
       "    </tr>\n",
       "    <tr>\n",
       "      <th>3</th>\n",
       "      <td>Residual</td>\n",
       "      <td>1.341800e+07</td>\n",
       "      <td>9</td>\n",
       "      <td>NaN</td>\n",
       "      <td>NaN</td>\n",
       "    </tr>\n",
       "    <tr>\n",
       "      <th>4</th>\n",
       "      <td>E_TemperatureFlux</td>\n",
       "      <td>1.274724e+07</td>\n",
       "      <td>1</td>\n",
       "      <td>1.274724e+07</td>\n",
       "      <td>152.033752</td>\n",
       "    </tr>\n",
       "    <tr>\n",
       "      <th>5</th>\n",
       "      <td>Pure Error</td>\n",
       "      <td>6.707586e+05</td>\n",
       "      <td>8</td>\n",
       "      <td>8.384483e+04</td>\n",
       "      <td>NaN</td>\n",
       "    </tr>\n",
       "  </tbody>\n",
       "</table>\n",
       "</div>"
      ],
      "text/plain": [
       "  Source of Variation  Sum of Squares  Degrees of Freedom   Mean Square  \\\n",
       "0                Mean    5.044648e+07                   1  5.044648e+07   \n",
       "1       E_Temperature    5.986227e+03                   1  5.986227e+03   \n",
       "2              E_Flux    1.032651e+04                   1  1.032651e+04   \n",
       "3            Residual    1.341800e+07                   9           NaN   \n",
       "4   E_TemperatureFlux    1.274724e+07                   1  1.274724e+07   \n",
       "5          Pure Error    6.707586e+05                   8  8.384483e+04   \n",
       "\n",
       "      F value  \n",
       "0  601.664806  \n",
       "1    0.071396  \n",
       "2    0.123162  \n",
       "3         NaN  \n",
       "4  152.033752  \n",
       "5         NaN  "
      ]
     },
     "execution_count": 22,
     "metadata": {},
     "output_type": "execute_result"
    }
   ],
   "source": [
    "anova_effects = {}\n",
    "anova_effects['Source of Variation'] = ['Mean','E_Temperature','E_Flux','Residual','E_TemperatureFlux','Pure Error']\n",
    "anova_effects['Sum of Squares']= [SS_Mean,SS_Etemp,SS_Eflux,SS_Etempflux+SS_withintests,SS_Etempflux,SS_withintests]\n",
    "anova_effects['Degrees of Freedom'] = [1,1,1,1+dof_withintests,1,dof_withintests]\n",
    "anova_effects['Mean Square'] = [SS_Mean,SS_Etemp,SS_Eflux,np.nan,SS_Etempflux,MS_withintests]\n",
    "anova_effects['F value'] = [SS_Mean/MS_withintests,SS_Etemp/MS_withintests,SS_Eflux/MS_withintests,np.nan,SS_Etempflux/MS_withintests,np.nan]\n",
    "df_anovaeffects = pd.DataFrame(anova_effects)\n",
    "df_anovaeffects = df_anovaeffects[['Source of Variation','Sum of Squares','Degrees of Freedom','Mean Square','F value']]\n",
    "df_anovaeffects"
   ]
  },
  {
   "cell_type": "markdown",
   "metadata": {},
   "source": [
    "We have the critical value of F(1,8,95%) = 5.32 \n",
    "Now we observe that F value of interaction effect of Temperature and Flux is much larger than the critical value which shows that this interaction effect is significant should definitely be in the model and the model suffers from lack of fit. So we should include this interaction effect in the model. <br>\n",
    "\n",
    "Also we observe that the main effects of Temperature and Flux, F value is much smaller than the critical value so we should try to remove these variables as they are not significant."
   ]
  },
  {
   "cell_type": "markdown",
   "metadata": {
    "collapsed": true
   },
   "source": [
    "### 19.23 c)\n",
    "\n",
    "Now we try to remove the temperature and flux main effects from the model and introduce the interaction effect so the model now becomes:\n",
    "\n",
    "$$ y = b_0 + b_{12}x_1x_2 + \\epsilon $$ <br>\n",
    "where $$ b_{12} = \\frac{E_{12}}{2} $$ so $$ b_{12} = 1030.665 $$ <br>\n",
    "$$ y = 2050.335 + 1030.665x_1x_2 + \\epsilon $$ <br>"
   ]
  },
  {
   "cell_type": "code",
   "execution_count": 23,
   "metadata": {},
   "outputs": [
    {
     "data": {
      "text/html": [
       "<div>\n",
       "<style>\n",
       "    .dataframe thead tr:only-child th {\n",
       "        text-align: right;\n",
       "    }\n",
       "\n",
       "    .dataframe thead th {\n",
       "        text-align: left;\n",
       "    }\n",
       "\n",
       "    .dataframe tbody tr th {\n",
       "        vertical-align: top;\n",
       "    }\n",
       "</style>\n",
       "<table border=\"1\" class=\"dataframe\">\n",
       "  <thead>\n",
       "    <tr style=\"text-align: right;\">\n",
       "      <th></th>\n",
       "      <th>Source of Variation</th>\n",
       "      <th>Sum of Squares</th>\n",
       "      <th>Degrees of Freedom</th>\n",
       "      <th>Mean Square</th>\n",
       "      <th>F value</th>\n",
       "    </tr>\n",
       "  </thead>\n",
       "  <tbody>\n",
       "    <tr>\n",
       "      <th>0</th>\n",
       "      <td>Mean</td>\n",
       "      <td>5.044648e+07</td>\n",
       "      <td>1</td>\n",
       "      <td>5.044648e+07</td>\n",
       "      <td>601.664806</td>\n",
       "    </tr>\n",
       "    <tr>\n",
       "      <th>1</th>\n",
       "      <td>E_TemperatureFlux</td>\n",
       "      <td>1.274724e+07</td>\n",
       "      <td>1</td>\n",
       "      <td>1.274724e+07</td>\n",
       "      <td>152.033752</td>\n",
       "    </tr>\n",
       "    <tr>\n",
       "      <th>2</th>\n",
       "      <td>Residual</td>\n",
       "      <td>6.870714e+05</td>\n",
       "      <td>10</td>\n",
       "      <td>NaN</td>\n",
       "      <td>NaN</td>\n",
       "    </tr>\n",
       "    <tr>\n",
       "      <th>3</th>\n",
       "      <td>E_Temperature + E_Flux</td>\n",
       "      <td>1.631273e+04</td>\n",
       "      <td>2</td>\n",
       "      <td>8.156367e+03</td>\n",
       "      <td>0.194559</td>\n",
       "    </tr>\n",
       "    <tr>\n",
       "      <th>4</th>\n",
       "      <td>Pure Error</td>\n",
       "      <td>6.707586e+05</td>\n",
       "      <td>8</td>\n",
       "      <td>8.384483e+04</td>\n",
       "      <td>NaN</td>\n",
       "    </tr>\n",
       "  </tbody>\n",
       "</table>\n",
       "</div>"
      ],
      "text/plain": [
       "      Source of Variation  Sum of Squares  Degrees of Freedom   Mean Square  \\\n",
       "0                    Mean    5.044648e+07                   1  5.044648e+07   \n",
       "1       E_TemperatureFlux    1.274724e+07                   1  1.274724e+07   \n",
       "2                Residual    6.870714e+05                  10           NaN   \n",
       "3  E_Temperature + E_Flux    1.631273e+04                   2  8.156367e+03   \n",
       "4              Pure Error    6.707586e+05                   8  8.384483e+04   \n",
       "\n",
       "      F value  \n",
       "0  601.664806  \n",
       "1  152.033752  \n",
       "2         NaN  \n",
       "3    0.194559  \n",
       "4         NaN  "
      ]
     },
     "execution_count": 23,
     "metadata": {},
     "output_type": "execute_result"
    }
   ],
   "source": [
    "anova_effects = {}\n",
    "anova_effects['Source of Variation'] = ['Mean','E_TemperatureFlux','Residual','E_Temperature + E_Flux','Pure Error']\n",
    "anova_effects['Sum of Squares']= [SS_Mean,SS_Etempflux,SS_Etemp+SS_Eflux+SS_withintests,SS_Etemp+SS_Eflux,SS_withintests]\n",
    "anova_effects['Degrees of Freedom'] = [1,1,2+dof_withintests,2,dof_withintests]\n",
    "anova_effects['Mean Square'] = [SS_Mean,SS_Etempflux,np.nan,(SS_Etemp+SS_Eflux)/2.0,MS_withintests]\n",
    "anova_effects['F value'] = [SS_Mean/MS_withintests,SS_Etempflux/MS_withintests,np.nan,(SS_Etemp+SS_Eflux)/MS_withintests,np.nan]\n",
    "df_anovaeffects = pd.DataFrame(anova_effects)\n",
    "df_anovaeffects = df_anovaeffects[['Source of Variation','Sum of Squares','Degrees of Freedom','Mean Square','F value']]\n",
    "df_anovaeffects"
   ]
  },
  {
   "cell_type": "markdown",
   "metadata": {},
   "source": [
    "As we see that the F value for the combined sum of the main effects of Temperature and Flux Strength is less than the critical F value for F(2,8,95%) = 4.46 we can say that there is no lack of fit in the model. "
   ]
  },
  {
   "cell_type": "markdown",
   "metadata": {},
   "source": [
    "### Problem 1\n"
   ]
  },
  {
   "cell_type": "code",
   "execution_count": 24,
   "metadata": {},
   "outputs": [
    {
     "data": {
      "text/html": [
       "<div>\n",
       "<style>\n",
       "    .dataframe thead tr:only-child th {\n",
       "        text-align: right;\n",
       "    }\n",
       "\n",
       "    .dataframe thead th {\n",
       "        text-align: left;\n",
       "    }\n",
       "\n",
       "    .dataframe tbody tr th {\n",
       "        vertical-align: top;\n",
       "    }\n",
       "</style>\n",
       "<table border=\"1\" class=\"dataframe\">\n",
       "  <thead>\n",
       "    <tr style=\"text-align: right;\">\n",
       "      <th></th>\n",
       "      <th>OrderOfPolynomial</th>\n",
       "      <th>SumofSquaredError</th>\n",
       "      <th>DegreeofFreedom</th>\n",
       "      <th>MSE</th>\n",
       "    </tr>\n",
       "  </thead>\n",
       "  <tbody>\n",
       "    <tr>\n",
       "      <th>0</th>\n",
       "      <td>1</td>\n",
       "      <td>126491.128371</td>\n",
       "      <td>500</td>\n",
       "      <td>252.982257</td>\n",
       "    </tr>\n",
       "    <tr>\n",
       "      <th>1</th>\n",
       "      <td>2</td>\n",
       "      <td>13606.043071</td>\n",
       "      <td>499</td>\n",
       "      <td>27.266619</td>\n",
       "    </tr>\n",
       "    <tr>\n",
       "      <th>2</th>\n",
       "      <td>3</td>\n",
       "      <td>11802.266879</td>\n",
       "      <td>498</td>\n",
       "      <td>23.699331</td>\n",
       "    </tr>\n",
       "    <tr>\n",
       "      <th>3</th>\n",
       "      <td>4</td>\n",
       "      <td>11798.945307</td>\n",
       "      <td>497</td>\n",
       "      <td>23.740333</td>\n",
       "    </tr>\n",
       "    <tr>\n",
       "      <th>4</th>\n",
       "      <td>5</td>\n",
       "      <td>11748.107061</td>\n",
       "      <td>496</td>\n",
       "      <td>23.685700</td>\n",
       "    </tr>\n",
       "    <tr>\n",
       "      <th>5</th>\n",
       "      <td>6</td>\n",
       "      <td>11745.002401</td>\n",
       "      <td>495</td>\n",
       "      <td>23.727278</td>\n",
       "    </tr>\n",
       "    <tr>\n",
       "      <th>6</th>\n",
       "      <td>7</td>\n",
       "      <td>11706.029676</td>\n",
       "      <td>494</td>\n",
       "      <td>23.696416</td>\n",
       "    </tr>\n",
       "    <tr>\n",
       "      <th>7</th>\n",
       "      <td>8</td>\n",
       "      <td>11632.773823</td>\n",
       "      <td>493</td>\n",
       "      <td>23.595890</td>\n",
       "    </tr>\n",
       "    <tr>\n",
       "      <th>8</th>\n",
       "      <td>9</td>\n",
       "      <td>11551.293684</td>\n",
       "      <td>492</td>\n",
       "      <td>23.478239</td>\n",
       "    </tr>\n",
       "    <tr>\n",
       "      <th>9</th>\n",
       "      <td>10</td>\n",
       "      <td>11548.685202</td>\n",
       "      <td>491</td>\n",
       "      <td>23.520744</td>\n",
       "    </tr>\n",
       "  </tbody>\n",
       "</table>\n",
       "</div>"
      ],
      "text/plain": [
       "   OrderOfPolynomial  SumofSquaredError  DegreeofFreedom         MSE\n",
       "0                  1      126491.128371              500  252.982257\n",
       "1                  2       13606.043071              499   27.266619\n",
       "2                  3       11802.266879              498   23.699331\n",
       "3                  4       11798.945307              497   23.740333\n",
       "4                  5       11748.107061              496   23.685700\n",
       "5                  6       11745.002401              495   23.727278\n",
       "6                  7       11706.029676              494   23.696416\n",
       "7                  8       11632.773823              493   23.595890\n",
       "8                  9       11551.293684              492   23.478239\n",
       "9                 10       11548.685202              491   23.520744"
      ]
     },
     "execution_count": 24,
     "metadata": {},
     "output_type": "execute_result"
    }
   ],
   "source": [
    "df = pd.read_csv('Problem1.csv')\n",
    "poly_x = [\"x2\",\"x3\",\"x4\",\"x5\",\"x6\",\"x7\",\"x8\",\"x9\",\"x10\"]\n",
    "for i in range(9):\n",
    "    df[poly_x[i]]=df[\"x\"]**(i+2)\n",
    "df = df[[\"x\",\"x2\",\"x3\",\"x4\",\"x5\",\"x6\",\"x7\",\"x8\",\"x9\",\"x10\",\"y\"]]  \n",
    "from sklearn.linear_model import LinearRegression\n",
    "model = LinearRegression()\n",
    "Sum_SquaredError = []\n",
    "for i in range(1,11):\n",
    "    x = df.iloc[:,:i]\n",
    "    y = df['y']\n",
    "    model.fit(x,y)\n",
    "    y_pred = model.predict(x)\n",
    "    squared_error = (pow((y-y_pred),2))\n",
    "    sum_squaredeeror = sum(squared_error)\n",
    "    Sum_SquaredError.append(sum_squaredeeror)\n",
    "SumofSquaredError = np.array(Sum_SquaredError)\n",
    "Dof = np.array(range(500,490,-1))\n",
    "OrderOfPolynomial = np.array(range(1,11))\n",
    "df_pol = pd.DataFrame({})\n",
    "df_pol['OrderOfPolynomial']=OrderOfPolynomial\n",
    "df_pol['SumofSquaredError']=SumofSquaredError\n",
    "df_pol['DegreeofFreedom']=Dof\n",
    "df_pol['MSE']=df_pol['SumofSquaredError']/df_pol['DegreeofFreedom']\n",
    "df_pol"
   ]
  },
  {
   "cell_type": "markdown",
   "metadata": {},
   "source": [
    "We can see that MSE is reducing as the order of the ploynomial is increasing in value but we we'll simply not make a decision using this low MSE value and select polynomial of order 10 as the one that underlies the data in the file. <br>\n",
    "\n",
    "We will utilise the F test amongst the different models as our selection criteria for the right polynomial order <br><br>\n",
    "$$ F  = \\frac{\\frac{ESS(R)-ESS(U)}{k-m}}{\\frac{ESS(U)}{n-k}} $$\n",
    "where <br> U = Unrestricted Model  <br>\n",
    "R = Restricted Model <br>\n",
    "$ n = 501 $ <br>\n",
    "$ k - m = 1 $ <br> \n",
    "k = number of parameter in Unrestricted model <br>\n",
    "\n",
    "Critical value of F(1,inf,95%) = 3.84 <br>\n",
    "As long as the F value > F critical we will keep increasing the polynomial order <br>\n",
    "F value (1st order polynomial vs 2nd order polynomial) = 4148.34 > F critical <br>\n",
    "So we can say that 2nd order better than 1st <br>\n",
    "F value (2nd order vs 3rd order) = 76.26 > F - critical <br>\n",
    "therefore order 3 better than order 2 <br>\n",
    "F value (3rd order vs 4th order) = 0.140194 < F-critical <br>\n",
    "Hence we will restrict our model till the 3rd order polynomial and our final model is <br><br>\n",
    "$$ y = b_0 + b_1x + b_2x^2 + b_3x^3 + \\epsilon $$"
   ]
  },
  {
   "cell_type": "markdown",
   "metadata": {},
   "source": [
    "### Problem 2\n"
   ]
  },
  {
   "cell_type": "code",
   "execution_count": 25,
   "metadata": {},
   "outputs": [
    {
     "name": "stdout",
     "output_type": "stream",
     "text": [
      "[ 1.98122965 -3.95849458  1.02519801  3.01100698 -2.05371817]\n",
      "2.9947687346\n"
     ]
    }
   ],
   "source": [
    "df_x = pd.read_csv('Problem2x.csv')\n",
    "x1 = df_x.x1.values\n",
    "x2 = df_x.x2.values\n",
    "x1f = np.repeat(x1,51)\n",
    "x2f = x2.tolist()\n",
    "x3f =[]\n",
    "for i in range(51):\n",
    "    x3f.append(x2f)\n",
    "x4f=np.ravel(x3f)    \n",
    "df_R = pd.read_csv('Problem2R.csv',header=None)\n",
    "df_R = df_R.values\n",
    "y = np.ravel(df_R)\n",
    "df= pd.DataFrame({})\n",
    "df['x1']=x1f\n",
    "df['x2']=x4f\n",
    "df['x1x2']=df['x1']*df['x2']\n",
    "df['x1square']=df['x1']**2\n",
    "df['x2square']=df['x2']**2\n",
    "y.shape\n",
    "from sklearn.linear_model import LinearRegression \n",
    "model = LinearRegression()\n",
    "model.fit(df,y)\n",
    "print model.coef_\n",
    "print model.intercept_"
   ]
  },
  {
   "cell_type": "markdown",
   "metadata": {},
   "source": [
    "So the Model coefficients are $$ a = 2.9947687346 $$ $$b = 1.98122965 $$  $$ c= -3.95849458 $$ $$ d = 1.02519801 $$ $$e= 3.01100698 $$  $$ f = -2.05371817 $$<br>\n",
    "And the model is\n",
    " $$ y = a + bx_1 + cx_2 + dx_1x_2 + ex_1^2 + fx_2^2 + \\epsilon $$<br>\n",
    " $$ y = 2.9947687346 + 1.98122965x_1 -3.95849458x_2 + 1.02519801x_1x_2 + 3.01100698x_1^2 -2.05371817x_2^2 + \\epsilon $$ "
   ]
  },
  {
   "cell_type": "code",
   "execution_count": null,
   "metadata": {
    "collapsed": true
   },
   "outputs": [],
   "source": []
  }
 ],
 "metadata": {
  "kernelspec": {
   "display_name": "Python 2",
   "language": "python",
   "name": "python2"
  },
  "language_info": {
   "codemirror_mode": {
    "name": "ipython",
    "version": 2
   },
   "file_extension": ".py",
   "mimetype": "text/x-python",
   "name": "python",
   "nbconvert_exporter": "python",
   "pygments_lexer": "ipython2",
   "version": "2.7.13"
  }
 },
 "nbformat": 4,
 "nbformat_minor": 2
}
